{
 "cells": [
  {
   "cell_type": "code",
   "execution_count": 1,
   "metadata": {},
   "outputs": [],
   "source": [
    "import numpy as np\n",
    "import pandas as pd\n",
    "import matplotlib.pyplot as plt\n",
    "\n",
    "def linear_lsf(x,y):\n",
    "    x_bar = np.mean(x)\n",
    "    y_bar = np.mean(y)\n",
    "    x_sq_bar = np.mean([i**2 for i in x])\n",
    "    x_bar_sq = x_bar**2\n",
    "    xy = []\n",
    "    for i in range(len(x)):\n",
    "        xy.append(x[i]*y[i])\n",
    "    xy_bar = np.mean(xy)\n",
    "    x_bar_y_bar = x_bar*y_bar\n",
    "    b = (xy_bar - x_bar_y_bar)/(x_sq_bar - x_bar_sq)\n",
    "    a = y_bar - b*x_bar\n",
    "    \n",
    "    #Error table\n",
    "    err_table = pd.DataFrame(columns=['x','y','y^p','e','e^2'])\n",
    "    err_table['x'] = x\n",
    "    err_table['y'] = y\n",
    "    err_table['y^p'] = [a + b*i for i in x]\n",
    "    err_table['e'] = err_table['y'] - err_table['y^p']\n",
    "    err_table['e^2'] = err_table['e']\n",
    "    err_table.index+=1\n",
    "#     print(err_table)\n",
    "\n",
    "    #Error Calculation\n",
    "    n = len(x)\n",
    "    e_sum = err_table['e'].sum()\n",
    "    err_y = err_table['e^2'].sum()/(n-2)\n",
    "    err_a_sq = (x_sq_bar*(err_y**2))/(n*(x_sq_bar-x_bar_sq))\n",
    "    err_b_sq = (err_y)**2/(n*(x_sq_bar-x_bar_sq))\n",
    "    err_a = err_b_sq**(1/2)\n",
    "    err_b = err_a_sq**(1/2)\n",
    "\n",
    "    err_result = pd.DataFrame(columns=['Quantity','Value'])\n",
    "    err_result['Quantity'] = ['Sum of e','err_y','err_b_sq','err_a_sq','err_b','err_a']\n",
    "    err_result['Value'] = [e_sum,err_y,err_b_sq,err_a_sq,err_b,err_a]\n",
    "    err_result.index+=1\n",
    "    \n",
    "    return b,a, err_table, err_result\n",
    "\n",
    "def data_plot(b,a,x,y,x_label,y_label,fig_name,save_plot):\n",
    "    x_line = np.linspace(min(x),max(x),1000)\n",
    "    y_line = [a+b*i for i in x_line]\n",
    "    plt.plot(x_line,y_line)\n",
    "    plt.scatter(x,y,c='orange')\n",
    "    eq = f'${y_label} = {round(a,8)} + {round(b,8)}{x_label}$'\n",
    "    t1= plt.text(max(x)*0.50, max(y)*0.100, r\"{}\".format(eq), fontsize=12)\n",
    "    t1.set_bbox(dict(facecolor='white', edgecolor='black'))\n",
    "    plt.xticks(fontweight='bold')\n",
    "    plt.yticks(fontweight='bold')\n",
    "    plt.xlabel(x_label)\n",
    "    plt.ylabel(y_label)\n",
    "    plt.grid(True)\n",
    "    if save_plot:\n",
    "        plt.savefig(f'data/{fig_name}.png',dpi=200)\n",
    "    plt.show()\n",
    "    "
   ]
  },
  {
   "cell_type": "code",
   "execution_count": 2,
   "metadata": {},
   "outputs": [],
   "source": [
    "M=[5,7,10,12,15,17,20,25]\n",
    "Lt=[17.8216667,19.4833333,23.31,26.1633333,28.7066667,30.3733333,32.88833333,36.585]\n",
    "\n",
    "Ltsq=[i**2 for i in Lt]\n",
    "\n",
    "\n",
    "tab = pd.DataFrame({'M':M,'l':Lt,'l^2':Ltsq})\n",
    "tab.index+=1"
   ]
  },
  {
   "cell_type": "code",
   "execution_count": 3,
   "metadata": {},
   "outputs": [
    {
     "name": "stdout",
     "output_type": "stream",
     "text": [
      "\n",
      "LEAST SQUARE FIT\n",
      "\n",
      "\n",
      "Slope(b)= 52.096041538327505\n",
      "Intercept(a)= 38.64304525753505\n"
     ]
    },
    {
     "data": {
      "image/png": "[encoded data removed]",
      "text/plain": [
       "<Figure size 432x288 with 1 Axes>"
      ]
     },
     "metadata": {
      "needs_background": "light"
     },
     "output_type": "display_data"
    },
    {
     "name": "stdout",
     "output_type": "stream",
     "text": [
      "\n",
      "\n",
      "Here x = M and y = Lt^2\n",
      "\n",
      "Error Table\n",
      "     x            y          y^p          e        e^2\n",
      "1   5   317.611804   299.123253  18.488551  18.488551\n",
      "2   7   379.600276   403.315336 -23.715060 -23.715060\n",
      "3  10   543.356100   559.603461 -16.247361 -16.247361\n",
      "4  12   684.520009   663.795544  20.724466  20.724466\n",
      "5  15   824.072713   820.083668   3.989045   3.989045\n",
      "6  17   922.539376   924.275751  -1.736376  -1.736376\n",
      "7  20  1081.642469  1080.563876   1.078593   1.078593\n",
      "8  25  1338.462225  1341.044084  -2.581859  -2.581859 \n",
      "\n",
      "   Quantity         Value\n",
      "1  Sum of e -5.684342e-14\n",
      "2     err_y -9.473903e-15\n",
      "3  err_b_sq  2.832500e-31\n",
      "4  err_a_sq  6.574940e-29\n",
      "5     err_b  8.108601e-15\n",
      "6     err_a  5.322124e-16\n"
     ]
    }
   ],
   "source": [
    "#Least Square fit for data\n",
    "\n",
    "\n",
    "#print('\\n\\n\\n\\n',tab,'\\n')\n",
    "\n",
    "b,a,err_table,err_result = linear_lsf(M,Ltsq)\n",
    "\n",
    "print('\\nLEAST SQUARE FIT\\n\\n')\n",
    "print('Slope(b)=',b)\n",
    "print('Intercept(a)=',a)\n",
    "fig_name = 'practical_exam_plot'\n",
    "data_plot(b,a,M,Ltsq,'M','Lt^2',fig_name,False)\n",
    "\n",
    "print('\\n\\nHere x = M and y = Lt^2\\n')\n",
    "print('Error Table\\n',err_table,'\\n')\n",
    "print(err_result)"
   ]
  }
 ],
 "metadata": {
  "kernelspec": {
   "display_name": "Python 3.10.0 64-bit",
   "language": "python",
   "name": "python3"
  },
  "language_info": {
   "codemirror_mode": {
    "name": "ipython",
    "version": 3
   },
   "file_extension": ".py",
   "mimetype": "text/x-python",
   "name": "python",
   "nbconvert_exporter": "python",
   "pygments_lexer": "ipython3",
   "version": "3.10.0"
  },
  "vscode": {
   "interpreter": {
    "hash": "8c3d4d9970fc5c09c50d9318a9c7fbf4d0159e4b28833276f5678ee22bded273"
   }
  }
 },
 "nbformat": 4,
 "nbformat_minor": 4
}
